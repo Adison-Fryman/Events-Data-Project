{
 "cells": [
  {
   "cell_type": "code",
   "execution_count": 5,
   "id": "a4e39b7d",
   "metadata": {},
   "outputs": [
    {
     "name": "stdout",
     "output_type": "stream",
     "text": [
      "Row 0: Unexpected value in 'Category': error\n",
      "Row 45: Unexpected value in 'Category': error\n",
      "Row 113: Unexpected value in 'Category': error\n"
     ]
    }
   ],
   "source": [
    "%run \"Asana import and Clean.ipynb\""
   ]
  },
  {
   "cell_type": "code",
   "execution_count": 6,
   "id": "12737383",
   "metadata": {},
   "outputs": [
    {
     "name": "stdout",
     "output_type": "stream",
     "text": [
      "0\n"
     ]
    }
   ],
   "source": [
    "%run \"SurveyMonkey import and Clean.ipynb\""
   ]
  },
  {
   "cell_type": "code",
   "execution_count": 7,
   "id": "0d18c20c",
   "metadata": {},
   "outputs": [],
   "source": [
    "%run \"Survey Completion.ipynb\""
   ]
  },
  {
   "cell_type": "code",
   "execution_count": 8,
   "id": "3004fc84",
   "metadata": {},
   "outputs": [],
   "source": [
    "%run \"Private_Local to Public.ipynb\""
   ]
  }
 ],
 "metadata": {
  "kernelspec": {
   "display_name": "Python 3 (ipykernel)",
   "language": "python",
   "name": "python3"
  },
  "language_info": {
   "codemirror_mode": {
    "name": "ipython",
    "version": 3
   },
   "file_extension": ".py",
   "mimetype": "text/x-python",
   "name": "python",
   "nbconvert_exporter": "python",
   "pygments_lexer": "ipython3",
   "version": "3.11.4"
  }
 },
 "nbformat": 4,
 "nbformat_minor": 5
}
